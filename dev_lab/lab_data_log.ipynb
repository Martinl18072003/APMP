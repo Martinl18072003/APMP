{
 "cells": [
  {
   "cell_type": "code",
   "execution_count": 1,
   "metadata": {},
   "outputs": [
    {
     "name": "stdout",
     "output_type": "stream",
     "text": [
      "Writing log_data_to_history.py\n"
     ]
    }
   ],
   "source": [
    "%%file log_data_to_history.py\n",
    "import csv\n",
    "import datetime\n",
    "\n",
    "with open('data.csv', 'r') as file:\n",
    "    reader = csv.reader(file)\n",
    "    data = next(reader)\n",
    "\n",
    "current_datetime = datetime.datetime.now().strftime(\"%Y-%m-%d %H:%M:%S\")\n",
    "data_with_datetime = [current_datetime] + data\n",
    "\n",
    "with open('data_history.csv', 'a', newline='') as history_file:\n",
    "    writer = csv.writer(history_file)\n",
    "    writer.writerow(data_with_datetime)"
   ]
  },
  {
   "cell_type": "code",
   "execution_count": 69,
   "metadata": {},
   "outputs": [],
   "source": [
    "%%bash\n",
    "python3 log_data_to_history.py"
   ]
  },
  {
   "cell_type": "code",
   "execution_count": 70,
   "metadata": {},
   "outputs": [],
   "source": [
    "%%bash\n",
    "python3 log_data_to_history.py\n",
    "python3 log_data_to_history.py\n",
    "python3 log_data_to_history.py\n",
    "python3 log_data_to_history.py"
   ]
  },
  {
   "cell_type": "code",
   "execution_count": 71,
   "metadata": {},
   "outputs": [],
   "source": [
    "import os\n",
    "os.remove(\"data_history.csv\")"
   ]
  }
 ],
 "metadata": {
  "kernelspec": {
   "display_name": "Python 3",
   "language": "python",
   "name": "python3"
  },
  "language_info": {
   "codemirror_mode": {
    "name": "ipython",
    "version": 3
   },
   "file_extension": ".py",
   "mimetype": "text/x-python",
   "name": "python",
   "nbconvert_exporter": "python",
   "pygments_lexer": "ipython3",
   "version": "3.9.13"
  }
 },
 "nbformat": 4,
 "nbformat_minor": 2
}
