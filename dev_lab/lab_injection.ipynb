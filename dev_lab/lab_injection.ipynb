{
 "cells": [
  {
   "cell_type": "code",
   "execution_count": null,
   "metadata": {},
   "outputs": [],
   "source": [
    "%%file injection_crash_protection.c\n",
    "\n",
    "// IMPORTS\n",
    "#include \"stdlib.h\"\n",
    "#include \"stdio.h\"\n",
    "\n",
    "\n",
    "int main(void){\n",
    "    // INFINITE LOOP\n",
    "    FILE *first_file = fopen(\"injection_data.csv\", \"w\");\n",
    "    fprintf(first_file, \"0\");\n",
    "    fclose(first_file);\n",
    "    int firstValue;\n",
    "    while(1>0){\n",
    "        // The \"system\" function surpasses anything and offers optimal resilience\n",
    "        FILE *second_file = fopen(\"injection_data.csv\", \"r\");\n",
    "        fscanf(second_file, \"%d\", &firstValue);\n",
    "        if (firstValue == -1) {\n",
    "            printf(\"Injection complete. Exiting...\\n\");\n",
    "            system(\"rm injection_data.csv\");\n",
    "            fclose(second_file);\n",
    "            return 0;\n",
    "        }\n",
    "        fclose(second_file);\n",
    "        system(\"python3 /Users/martin/Library/CloudStorage/OneDrive-Personal/MJL_Sol/Research/Main_Trading_Program/MARK_IV_R02/injection.py\");\n",
    "    }\n",
    "}"
   ]
  },
  {
   "cell_type": "code",
   "execution_count": 5,
   "metadata": {},
   "outputs": [],
   "source": [
    "%%bash\n",
    "gcc -o injection injection_crash_protection.c"
   ]
  },
  {
   "cell_type": "code",
   "execution_count": null,
   "metadata": {},
   "outputs": [],
   "source": [
    "%%file injection.py\n",
    "import time\n",
    "time.sleep(3)\n",
    "data = [-1]\n",
    "with open(\"injection_data.csv\", mode='w', newline='') as file:\n",
    "    writer = csv.writer(file)\n",
    "    writer.writerow(data)"
   ]
  },
  {
   "cell_type": "code",
   "execution_count": 6,
   "metadata": {},
   "outputs": [
    {
     "name": "stdout",
     "output_type": "stream",
     "text": [
      "Injection complete. Exiting...\n"
     ]
    }
   ],
   "source": [
    "%%bash\n",
    "./injection"
   ]
  }
 ],
 "metadata": {
  "kernelspec": {
   "display_name": "Python 3",
   "language": "python",
   "name": "python3"
  },
  "language_info": {
   "codemirror_mode": {
    "name": "ipython",
    "version": 3
   },
   "file_extension": ".py",
   "mimetype": "text/x-python",
   "name": "python",
   "nbconvert_exporter": "python",
   "pygments_lexer": "ipython3",
   "version": "3.9.13"
  }
 },
 "nbformat": 4,
 "nbformat_minor": 2
}
