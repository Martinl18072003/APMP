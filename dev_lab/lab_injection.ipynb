{
 "cells": [
  {
   "cell_type": "markdown",
   "metadata": {},
   "source": [
    "## CODE"
   ]
  },
  {
   "cell_type": "code",
   "execution_count": 46,
   "metadata": {},
   "outputs": [],
   "source": [
    "def min_increment_float(number):\n",
    "    number = str(number)\n",
    "    tmp = \"\"\n",
    "    count = 0\n",
    "    start_count = False\n",
    "    for i in range(len(number)):\n",
    "        tmp = number[i]\n",
    "        if start_count == True: count += 1\n",
    "        if tmp==\".\": start_count = True\n",
    "    return count"
   ]
  },
  {
   "cell_type": "markdown",
   "metadata": {},
   "source": [
    "## TEST"
   ]
  },
  {
   "cell_type": "code",
   "execution_count": 34,
   "metadata": {},
   "outputs": [
    {
     "name": "stdout",
     "output_type": "stream",
     "text": [
      "The minimum increment for 2.9765 is: 0.0001\n",
      "The minimum increment for 2454.24 is: 0.01\n",
      "The minimum increment for 2578165495.1 is: 0.1\n",
      "The minimum increment for 1 is: 1\n",
      "The minimum increment for 28476.8624 is: 0.0001\n",
      "The minimum increment for 2.0 is: 0.1\n"
     ]
    }
   ],
   "source": [
    "number = [2.9765,2454.24,2578165495.1,1,28476.8624,2.0000000]\n",
    "for i in range (len(number)):\n",
    "    min_increment = min_increment_float(number[i])\n",
    "    print(f\"The minimum increment for {number[i]} is: {min_increment}\")"
   ]
  },
  {
   "cell_type": "code",
   "execution_count": 55,
   "metadata": {},
   "outputs": [
    {
     "name": "stdout",
     "output_type": "stream",
     "text": [
      "0.0000001\n"
     ]
    }
   ],
   "source": [
    "import ccxt\n",
    "account = ccxt.binance()\n",
    "symbol = \"DOGE/USDT\"\n",
    "ohlcv = account.fetch_ohlcv(symbol, '1d', limit=1000)\n",
    "tmp = []\n",
    "decimals=0\n",
    "\n",
    "for i in range(len(ohlcv)):\n",
    "    tmp.append(10**(-1*min_increment_float(ohlcv[i][1])))\n",
    "    if min_increment_float(ohlcv[i][1])>decimals: decimals = min_increment_float(ohlcv[i][1])\n",
    "\n",
    "increment = format(min(tmp),'.'+str(decimals)+'f')\n",
    "print(increment)"
   ]
  }
 ],
 "metadata": {
  "kernelspec": {
   "display_name": "Python 3",
   "language": "python",
   "name": "python3"
  },
  "language_info": {
   "codemirror_mode": {
    "name": "ipython",
    "version": 3
   },
   "file_extension": ".py",
   "mimetype": "text/x-python",
   "name": "python",
   "nbconvert_exporter": "python",
   "pygments_lexer": "ipython3",
   "version": "3.9.13"
  }
 },
 "nbformat": 4,
 "nbformat_minor": 2
}
