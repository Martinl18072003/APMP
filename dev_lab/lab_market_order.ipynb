{
 "cells": [
  {
   "cell_type": "code",
   "execution_count": 1,
   "metadata": {},
   "outputs": [],
   "source": [
    "import ccxt"
   ]
  },
  {
   "cell_type": "code",
   "execution_count": 43,
   "metadata": {},
   "outputs": [],
   "source": [
    "def min_increment(number):\n",
    "    \"\"\"\n",
    "    Calculates the minimum increment that can be applied to a float number.\n",
    "\n",
    "    Arguments:\n",
    "    number (float): The input float number to determine the minimum increment for.\n",
    "\n",
    "    Returns:\n",
    "    float: The minimum increment that can be applied to the input number.\n",
    "    \"\"\"\n",
    "    number = str(number)\n",
    "    tmp = \"\"\n",
    "    count = 0\n",
    "    start_count = False\n",
    "    for i in range(len(number)):\n",
    "        tmp = number[i]\n",
    "        if start_count == True: count += 1\n",
    "        if tmp==\".\": start_count = True\n",
    "    return count"
   ]
  },
  {
   "cell_type": "code",
   "execution_count": 60,
   "metadata": {},
   "outputs": [
    {
     "name": "stdout",
     "output_type": "stream",
     "text": [
      "2.919\n"
     ]
    }
   ],
   "source": [
    "number = 2.92\n",
    "account = ccxt.binance()\n",
    "symbol = \"LDO/USDT\"\n",
    "ohlcv = account.fetch_ohlcv(symbol, '1d', limit=1000)\n",
    "tmp = []\n",
    "decimals=0\n",
    "for i in range(len(ohlcv)):\n",
    "    tmp.append(10**(-1*min_increment(ohlcv[i][1])))\n",
    "    if min_increment(ohlcv[i][1])>decimals: decimals = min_increment(ohlcv[i][1])\n",
    "increment = format(min(tmp),'.'+str(decimals)+'f')\n",
    "print(number-float(increment))"
   ]
  }
 ],
 "metadata": {
  "kernelspec": {
   "display_name": "Python 3",
   "language": "python",
   "name": "python3"
  },
  "language_info": {
   "codemirror_mode": {
    "name": "ipython",
    "version": 3
   },
   "file_extension": ".py",
   "mimetype": "text/x-python",
   "name": "python",
   "nbconvert_exporter": "python",
   "pygments_lexer": "ipython3",
   "version": "3.9.13"
  }
 },
 "nbformat": 4,
 "nbformat_minor": 2
}
