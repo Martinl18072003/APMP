{
 "cells": [
  {
   "cell_type": "markdown",
   "metadata": {},
   "source": [
    "#### GET PATH FOR CSV"
   ]
  },
  {
   "cell_type": "code",
   "execution_count": null,
   "metadata": {},
   "outputs": [],
   "source": [
    "import os\n",
    "print(os.path.abspath(os.getcwd()))"
   ]
  },
  {
   "cell_type": "code",
   "execution_count": 32,
   "metadata": {},
   "outputs": [
    {
     "name": "stdout",
     "output_type": "stream",
     "text": [
      "Overwriting test.c\n"
     ]
    }
   ],
   "source": [
    "%%file test.c\n",
    "#include \"unistd.h\"\n",
    "#include \"stdio.h\"\n",
    "#include \"string.h\"\n",
    "\n",
    "int main(){\n",
    "    char cwd[1024];\n",
    "\n",
    "    getcwd(cwd, sizeof(cwd));\n",
    "    strcat(cwd, \"/test.py\");\n",
    "    //printf(\"%s\\n\",cwd);\n",
    "\n",
    "    char updatedCommand[1024];\n",
    "    strcpy(updatedCommand,\"rm \");\n",
    "    strcat(updatedCommand,cwd);\n",
    "\n",
    "    printf(\"%s\\n\",updatedCommand);\n",
    "}"
   ]
  },
  {
   "cell_type": "code",
   "execution_count": 33,
   "metadata": {},
   "outputs": [
    {
     "name": "stdout",
     "output_type": "stream",
     "text": [
      "rm /Users/martin/Library/CloudStorage/OneDrive-Personal/MJL_Sol/Research/Main_Trading_Program/MARK_IV_R02/dev_lab/test.py\n"
     ]
    }
   ],
   "source": [
    "%%bash \n",
    "gcc -o test test.c\n",
    "./test"
   ]
  },
  {
   "cell_type": "markdown",
   "metadata": {},
   "source": [
    "#### WRITE INITIAL FILE CONTAINING API KEYS"
   ]
  },
  {
   "cell_type": "markdown",
   "metadata": {},
   "source": [
    "#### ENCRYPT API KEYS"
   ]
  },
  {
   "cell_type": "markdown",
   "metadata": {},
   "source": [
    "#### DELETE INITIAL API KEYS' FILE"
   ]
  },
  {
   "cell_type": "markdown",
   "metadata": {},
   "source": [
    "#### MOVE ENCRYPTED FILE TO THE USB KEY"
   ]
  },
  {
   "cell_type": "markdown",
   "metadata": {},
   "source": [
    "#### RUN PARAMETERS SELECTION FOR SELECTED PAIR"
   ]
  },
  {
   "cell_type": "markdown",
   "metadata": {},
   "source": [
    "#### AUTOMATIC COMPUTATION OF TRADING PARAMETERS"
   ]
  }
 ],
 "metadata": {
  "kernelspec": {
   "display_name": "Python 3",
   "language": "python",
   "name": "python3"
  },
  "language_info": {
   "codemirror_mode": {
    "name": "ipython",
    "version": 3
   },
   "file_extension": ".py",
   "mimetype": "text/x-python",
   "name": "python",
   "nbconvert_exporter": "python",
   "pygments_lexer": "ipython3",
   "version": "3.9.13"
  }
 },
 "nbformat": 4,
 "nbformat_minor": 2
}
