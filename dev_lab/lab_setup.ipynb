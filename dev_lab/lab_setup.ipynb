{
 "cells": [
  {
   "cell_type": "markdown",
   "metadata": {},
   "source": [
    "#### WRITE INITIAL FILE CONTAINING API KEYS"
   ]
  },
  {
   "cell_type": "code",
   "execution_count": null,
   "metadata": {},
   "outputs": [],
   "source": [
    "# Get two lines of input from the user\n",
    "line1 = \"\"\n",
    "line2 = \"\"\n",
    "\n",
    "# Open a text file in write mode\n",
    "file_path = \"/Users/martin/Library/CloudStorage/OneDrive-Personal/MJL_Sol/Research/Main_Trading_Program/MARK_IV_R02/apmp.txt\"\n",
    "with open(file_path, 'w') as file:\n",
    "    # Write the input lines to the file\n",
    "    file.write(line1 + '\\n')\n",
    "    file.write(line2 + '\\n')\n",
    "\n",
    "print(f\"Lines written to {file_path} successfully.\")\n"
   ]
  },
  {
   "cell_type": "markdown",
   "metadata": {},
   "source": [
    "#### ENCRYPT API KEYS"
   ]
  },
  {
   "cell_type": "code",
   "execution_count": null,
   "metadata": {},
   "outputs": [],
   "source": [
    "%%bash \n",
    "python3 api_encryption.py apmp.txt 1"
   ]
  },
  {
   "cell_type": "markdown",
   "metadata": {},
   "source": [
    "#### DELETE INITIAL API KEYS' FILE"
   ]
  },
  {
   "cell_type": "code",
   "execution_count": null,
   "metadata": {},
   "outputs": [],
   "source": [
    "%%bash\n",
    "rm apmp.txt"
   ]
  },
  {
   "cell_type": "markdown",
   "metadata": {},
   "source": [
    "#### RUN PARAMETERS SELECTION FOR SELECTED PAIR"
   ]
  },
  {
   "cell_type": "code",
   "execution_count": 38,
   "metadata": {},
   "outputs": [
    {
     "data": {
      "text/plain": [
       "CompletedProcess(args='rm apmp.txt', returncode=0)"
      ]
     },
     "execution_count": 38,
     "metadata": {},
     "output_type": "execute_result"
    }
   ],
   "source": [
    "import subprocess, shutil, os\n",
    "\n",
    "shutil.copy(\"/Volumes/APMP/apmp.txt.encrypted\", os.path.abspath(os.getcwd()))\n",
    "subprocess.run(\"python3 api_encryption.py apmp.txt 0\", shell=True, check=True, text=True)\n",
    "subprocess.run(\"rm apmp.txt.encrypted\", shell=True, check=True, text=True)\n",
    "\n",
    "with open(\"apmp.txt\", 'r') as file:\n",
    "    key = file.readline().strip()\n",
    "    secret = file.readline().strip()\n",
    "\n",
    "subprocess.run(\"rm apmp.txt\", shell=True, check=True, text=True)"
   ]
  },
  {
   "cell_type": "markdown",
   "metadata": {},
   "source": [
    "#### AUTOMATIC COMPUTATION OF TRADING PARAMETERS"
   ]
  }
 ],
 "metadata": {
  "kernelspec": {
   "display_name": "Python 3",
   "language": "python",
   "name": "python3"
  },
  "language_info": {
   "codemirror_mode": {
    "name": "ipython",
    "version": 3
   },
   "file_extension": ".py",
   "mimetype": "text/x-python",
   "name": "python",
   "nbconvert_exporter": "python",
   "pygments_lexer": "ipython3",
   "version": "3.9.13"
  }
 },
 "nbformat": 4,
 "nbformat_minor": 2
}
