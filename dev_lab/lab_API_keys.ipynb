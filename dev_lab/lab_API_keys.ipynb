{
 "cells": [
  {
   "cell_type": "code",
   "execution_count": 20,
   "metadata": {},
   "outputs": [
    {
     "name": "stdout",
     "output_type": "stream",
     "text": [
      "Writing api_encryption.py\n"
     ]
    }
   ],
   "source": [
    "%%file api_encryption.py\n",
    "from cryptography.hazmat.primitives.kdf.pbkdf2 import PBKDF2HMAC\n",
    "from cryptography.hazmat.primitives import hashes\n",
    "from cryptography.hazmat.backends import default_backend\n",
    "from cryptography.hazmat.primitives.ciphers import Cipher, algorithms, modes\n",
    "import os\n",
    "\n",
    "def generate_key_and_iv(password, salt):\n",
    "    kdf = PBKDF2HMAC(\n",
    "        algorithm=hashes.SHA256(),\n",
    "        length=32 + 16,  # Key length + IV length\n",
    "        salt=salt,\n",
    "        iterations=100000,\n",
    "        backend=default_backend()\n",
    "    )\n",
    "    key_iv = kdf.derive(password.encode())\n",
    "    return key_iv[:32], key_iv[32:]\n",
    "\n",
    "def encrypt_file(file_path, password):\n",
    "    with open(file_path, 'rb') as file:\n",
    "        data = file.read()\n",
    "\n",
    "    salt = os.urandom(16)\n",
    "    key, iv = generate_key_and_iv(password, salt)\n",
    "\n",
    "    cipher = Cipher(algorithms.AES(key), modes.CFB(iv), backend=default_backend())\n",
    "    encryptor = cipher.encryptor()\n",
    "    encrypted_data = encryptor.update(data) + encryptor.finalize()\n",
    "\n",
    "    with open(file_path + '.encrypted', 'wb') as file:\n",
    "        file.write(salt + encrypted_data)\n",
    "\n",
    "def decrypt_file(file_path, password):\n",
    "    with open(file_path, 'rb') as file:\n",
    "        salt = file.read(16)\n",
    "        data = file.read()\n",
    "\n",
    "    key, iv = generate_key_and_iv(password, salt)\n",
    "\n",
    "    cipher = Cipher(algorithms.AES(key), modes.CFB(iv), backend=default_backend())\n",
    "    decryptor = cipher.decryptor()\n",
    "    decrypted_data = decryptor.update(data) + decryptor.finalize()\n",
    "\n",
    "    with open(file_path.replace('.encrypted', '_decrypted.txt'), 'wb') as file:\n",
    "        file.write(decrypted_data)\n",
    "\n",
    "# Replace 'file.txt' with your actual file name\n",
    "file_to_encrypt = os.argv[1]\n",
    "\n",
    "if os.argv[2] == 1:\n",
    "    # Replace 'your_password_here' with your actual password\n",
    "    print(\"Encryption mode, set a password : \",end='')\n",
    "    password = input()\n",
    "    encrypt_file(file_to_encrypt, password)\n",
    "elif os.argv[2] == 0:\n",
    "    # Replace 'your_password_here' with your actual password\n",
    "    print(\"Decryption mode, password : \",end='')\n",
    "    password = input()\n",
    "    decrypt_file(file_to_encrypt + '.encrypted', password)\n"
   ]
  },
  {
   "cell_type": "code",
   "execution_count": null,
   "metadata": {},
   "outputs": [],
   "source": [
    "%%bash \n",
    "python3 api_encryption.py test.txt 1"
   ]
  },
  {
   "cell_type": "code",
   "execution_count": 28,
   "metadata": {},
   "outputs": [
    {
     "name": "stdout",
     "output_type": "stream",
     "text": [
      "LbXkvWuvrTWuK1D1aKM7R4rAkP6iJefOJbyG3E67USlvtvh6Inh1GobJL3fENyWLFaYeIsYYXOQiOmdtp1uQsMR6fyIi5nA7DLs0\n"
     ]
    }
   ],
   "source": [
    "import random\n",
    "import string\n",
    "\n",
    "# Define the characters you want to include in the random string\n",
    "characters = string.ascii_letters + string.digits  # You can include punctuation or other characters if needed\n",
    "\n",
    "# Generate a random string of 50 elements\n",
    "random_string = ''.join(random.choice(characters) for _ in range(100))\n",
    "\n",
    "print(random_string)"
   ]
  }
 ],
 "metadata": {
  "kernelspec": {
   "display_name": "Python 3",
   "language": "python",
   "name": "python3"
  },
  "language_info": {
   "codemirror_mode": {
    "name": "ipython",
    "version": 3
   },
   "file_extension": ".py",
   "mimetype": "text/x-python",
   "name": "python",
   "nbconvert_exporter": "python",
   "pygments_lexer": "ipython3",
   "version": "3.9.13"
  }
 },
 "nbformat": 4,
 "nbformat_minor": 2
}
